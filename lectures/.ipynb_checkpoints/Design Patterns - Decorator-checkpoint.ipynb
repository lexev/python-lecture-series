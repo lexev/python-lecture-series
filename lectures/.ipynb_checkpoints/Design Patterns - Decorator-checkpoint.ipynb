{
 "cells": [
  {
   "cell_type": "markdown",
   "metadata": {},
   "source": [
    "## What is it?\n",
    "\n",
    "Whenever we want to add extra functionality to an object, we can either:\n",
    "    \n",
    "    Add the functionality directly to the class the object belongs to\n",
    "    Use composition\n",
    "    Use inheritance\n",
    "\n",
    "Composition is generally preferred over inheritance because inheritance makes code reuse harder as it's static, and applies to an entire class and all instances of it. A **Decorator** pattern can add responsibilities to an object dynamically, and in a transparent manner (without affecting other objects).\n",
    "\n",
    "A Python decorator is a specific change to the syntax of Python that is used for extending the behavior of a class, method, or function without using inheritance.\n",
    "\n",
    "Use Cases:\n",
    "\n",
    "    Data validation\n",
    "    Transaction processing \n",
    "    Caching\n",
    "    Logging\n",
    "    Monitoring\n",
    "    Debugging\n",
    "    Business rules\n",
    "    Compression\n",
    "    Encryption\n",
    "    \n",
    "Source: Mastering Python Design Patterns"
   ]
  },
  {
   "cell_type": "code",
   "execution_count": 4,
   "metadata": {
    "collapsed": false
   },
   "outputs": [
    {
     "name": "stdout",
     "output_type": "stream",
     "text": [
      "name: fibonacci, doc: Returns the nth number of the Fibonacci sequence, executing: fibonacci(100), time: 0.320241928101\n",
      "name: nsum, doc: Returns the sum of the first n numbers, executing: nsum(200), time: 0.290702104568\n"
     ]
    }
   ],
   "source": [
    "import functools\n",
    "\n",
    "def memoize(fn):\n",
    "    known = dict()\n",
    "\n",
    "    @functools.wraps(fn)\n",
    "    def memoizer(*args):\n",
    "        if args not in known:\n",
    "            known[args] = fn(*args)\n",
    "        return known[args]\n",
    "\n",
    "    return memoizer\n",
    "\n",
    "@memoize\n",
    "def nsum(n):\n",
    "    '''Returns the sum of the first n numbers'''\n",
    "    assert(n >= 0), 'n must be >= 0'\n",
    "    return 0 if n == 0 else n + nsum(n-1)\n",
    "\n",
    "@memoize\n",
    "def fibonacci(n):\n",
    "    '''Returns the nth number of the Fibonacci sequence'''\n",
    "    assert(n >= 0), 'n must be >= 0'\n",
    "    return n if n in (0, 1) else fibonacci(n-1) + fibonacci(n-2)\n",
    "\n",
    "if __name__ == '__main__':\n",
    "    from timeit import Timer\n",
    "    measure = [ {'exec':'fibonacci(100)', 'import':'fibonacci', 'func':fibonacci}, {'exec':'nsum(200)', 'import':'nsum', 'func':nsum} ]\n",
    "    for m in measure:\n",
    "        t = Timer('{}'.format(m['exec']), 'from __main__ import {}'.format(m['import']))\n",
    "        print('name: {}, doc: {}, executing: {}, time: {}'.format(m['func'].__name__, m['func'].__doc__, m['exec'], t.timeit()))"
   ]
  },
  {
   "cell_type": "code",
   "execution_count": null,
   "metadata": {
    "collapsed": true
   },
   "outputs": [],
   "source": []
  }
 ],
 "metadata": {
  "kernelspec": {
   "display_name": "Python 2",
   "language": "python",
   "name": "python2"
  },
  "language_info": {
   "codemirror_mode": {
    "name": "ipython",
    "version": 2
   },
   "file_extension": ".py",
   "mimetype": "text/x-python",
   "name": "python",
   "nbconvert_exporter": "python",
   "pygments_lexer": "ipython2",
   "version": "2.7.11"
  }
 },
 "nbformat": 4,
 "nbformat_minor": 0
}
