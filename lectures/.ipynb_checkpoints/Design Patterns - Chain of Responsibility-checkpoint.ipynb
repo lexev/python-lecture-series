{
 "cells": [
  {
   "cell_type": "markdown",
   "metadata": {},
   "source": [
    "## What is it?\n",
    "\n",
    "When developing an application, most of the time we know which method should satisfy a particular request in advance. However, this is not always the case. For example, we can think of any broadcast computer network, such as the original Ethernet implementation \n",
    "\n",
    "Source Mastering Python Design Patterns"
   ]
  },
  {
   "cell_type": "code",
   "execution_count": null,
   "metadata": {
    "collapsed": true
   },
   "outputs": [],
   "source": [
    "class Event: \n",
    "    def __init__(self, name): \n",
    "        self.name = name \n",
    "\n",
    "    def __str__(self): \n",
    "        return self.name \n",
    "\n",
    "class Widget: \n",
    "    def __init__(self, parent=None): \n",
    "        self.parent = parent \n",
    "\n",
    "    def handle(self, event): \n",
    "        handler = 'handle_{}'.format(event) \n",
    "        if hasattr(self, handler): \n",
    "            method = getattr(self, handler) \n",
    "            method(event) \n",
    "        elif self.parent: \n",
    "            self.parent.handle(event) \n",
    "        elif hasattr(self, 'handle_default'): \n",
    "            self.handle_default(event) \n",
    "\n",
    "class MainWindow(Widget): \n",
    "    def handle_close(self, event): \n",
    "        print('MainWindow: {}'.format(event)) \n",
    "\n",
    "    def handle_default(self, event): \n",
    "        print('MainWindow Default: {}'.format(event)) \n",
    "\n",
    "class SendDialog(Widget): \n",
    "    def handle_paint(self, event): \n",
    "        print('SendDialog: {}'.format(event)) \n",
    "\n",
    "class MsgText(Widget): \n",
    "    def handle_down(self, event): \n",
    "        print('MsgText: {}'.format(event)) \n",
    "\n",
    "def main(): \n",
    "    mw = MainWindow() \n",
    "    sd = SendDialog(mw) \n",
    "    msg = MsgText(sd) \n",
    "\n",
    "    for e in ('down', 'paint', 'unhandled', 'close'): \n",
    "        evt = Event(e) \n",
    "        print('\\nSending event -{}- to MainWindow'.format(evt)) \n",
    "        mw.handle(evt) \n",
    "        print('Sending event -{}- to SendDialog'.format(evt)) \n",
    "        sd.handle(evt) \n",
    "        print('Sending event -{}- to MsgText'.format(evt)) \n",
    "        msg.handle(evt) \n",
    "\n",
    "if __name__ == '__main__': \n",
    "    main()"
   ]
  }
 ],
 "metadata": {
  "kernelspec": {
   "display_name": "Python 2",
   "language": "python",
   "name": "python2"
  },
  "language_info": {
   "codemirror_mode": {
    "name": "ipython",
    "version": 2
   },
   "file_extension": ".py",
   "mimetype": "text/x-python",
   "name": "python",
   "nbconvert_exporter": "python",
   "pygments_lexer": "ipython2",
   "version": "2.7.11"
  }
 },
 "nbformat": 4,
 "nbformat_minor": 0
}
