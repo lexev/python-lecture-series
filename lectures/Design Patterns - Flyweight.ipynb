{
 "cells": [
  {
   "cell_type": "markdown",
   "metadata": {},
   "source": [
    "## What is it\n",
    "A flyweight is an object that minimizes memory use by sharing as much data as possible with other similar objects; it is a way to use objects in large numbers when a simple repeated representation would use an unacceptable amount of memory. Often some parts of the object state can be shared, and it is common practice to hold them in external data structures and pass them to the flyweight objects temporarily when they are used."
   ]
  },
  {
   "cell_type": "code",
   "execution_count": null,
   "metadata": {
    "collapsed": false
   },
   "outputs": [],
   "source": [
    "import random\n",
    "from enum import Enum\n",
    "\n",
    "TreeType = Enum('TreeType', 'apple_tree cherry_tree peach_tree')\n",
    "\n",
    "class Tree:\n",
    "    pool = dict()\n",
    "\n",
    "    def __new__(cls, tree_type):\n",
    "        obj = cls.pool.get(tree_type, None)\n",
    "        if not obj:\n",
    "            obj = object.__new__(cls)\n",
    "            cls.pool[tree_type] = obj\n",
    "            obj.tree_type = tree_type\n",
    "        return obj\n",
    "\n",
    "    def render(self, age, x, y):\n",
    "        print('render a tree of type {} and age {} at ({}, {})'.format(self.tree_type, age, x, y))\n",
    "\n",
    "def main():\n",
    "    rnd = random.Random()\n",
    "    age_min, age_max = 1, 30    # in years\n",
    "    min_point, max_point = 0, 100\n",
    "    tree_counter = 0\n",
    "\n",
    "    for _ in range(10):\n",
    "        t1 = Tree(TreeType.apple_tree)\n",
    "        t1.render(rnd.randint(age_min, age_max),\n",
    "                  rnd.randint(min_point, max_point),\n",
    "                  rnd.randint(min_point, max_point))\n",
    "        tree_counter += 1\n",
    "\n",
    "    for _ in range(3):\n",
    "        t2 = Tree(TreeType.cherry_tree)\n",
    "        t2.render(rnd.randint(age_min, age_max),\n",
    "                  rnd.randint(min_point, max_point),\n",
    "                  rnd.randint(min_point, max_point))\n",
    "        tree_counter += 1\n",
    "\n",
    "    for _ in range(5):\n",
    "        t3 = Tree(TreeType.peach_tree)\n",
    "        t3.render(rnd.randint(age_min, age_max),\n",
    "                  rnd.randint(min_point, max_point),\n",
    "                  rnd.randint(min_point, max_point))\n",
    "        tree_counter += 1\n",
    "\n",
    "    print('trees rendered: {}'.format(tree_counter))\n",
    "    print('trees actually created: {}'.format(len(Tree.pool)))\n",
    "\n",
    "    t4 = Tree(TreeType.cherry_tree)\n",
    "    t5 = Tree(TreeType.cherry_tree)\n",
    "    t6 = Tree(TreeType.apple_tree)\n",
    "    print('{} == {}? {}'.format(id(t4), id(t5), id(t4) == id(t5)))\n",
    "    print('{} == {}? {}'.format(id(t5), id(t6), id(t5) == id(t6)))\n",
    "\n",
    "if __name__ == '__main__':\n",
    "    main()"
   ]
  },
  {
   "cell_type": "markdown",
   "metadata": {},
   "source": [
    "```\n",
    "render a tree of type TreeType.apple_tree and age 4 at (88, 19)\n",
    "render a tree of type TreeType.apple_tree and age 18 at (31, 35)\n",
    "render a tree of type TreeType.apple_tree and age 7 at (54, 23)\n",
    "render a tree of type TreeType.apple_tree and age 3 at (9, 11)\n",
    "render a tree of type TreeType.apple_tree and age 2 at (93, 6)\n",
    "render a tree of type TreeType.apple_tree and age 12 at (3, 49)\n",
    "render a tree of type TreeType.apple_tree and age 10 at (5, 65)\n",
    "render a tree of type TreeType.apple_tree and age 6 at (19, 16)\n",
    "render a tree of type TreeType.apple_tree and age 2 at (21, 32)\n",
    "render a tree of type TreeType.apple_tree and age 21 at (87, 79)\n",
    "render a tree of type TreeType.cherry_tree and age 24 at (94, 31)\n",
    "render a tree of type TreeType.cherry_tree and age 14 at (92, 37)\n",
    "render a tree of type TreeType.cherry_tree and age 14 at (9, 88)\n",
    "render a tree of type TreeType.peach_tree and age 23 at (44, 90)\n",
    "render a tree of type TreeType.peach_tree and age 16 at (15, 59)\n",
    "render a tree of type TreeType.peach_tree and age 1 at (81, 98)\n",
    "render a tree of type TreeType.peach_tree and age 13 at (67, 63)\n",
    "render a tree of type TreeType.peach_tree and age 12 at (69, 42)\n",
    "trees rendered: 18\n",
    "trees actually created: 3\n",
    "140322427827480 == 140322427827480? True\n",
    "140322427827480 == 140322427709088? False\n",
    "```"
   ]
  },
  {
   "cell_type": "code",
   "execution_count": null,
   "metadata": {
    "collapsed": true
   },
   "outputs": [],
   "source": []
  }
 ],
 "metadata": {
  "kernelspec": {
   "display_name": "Python 2",
   "language": "python",
   "name": "python2"
  },
  "language_info": {
   "codemirror_mode": {
    "name": "ipython",
    "version": 2
   },
   "file_extension": ".py",
   "mimetype": "text/x-python",
   "name": "python",
   "nbconvert_exporter": "python",
   "pygments_lexer": "ipython2",
   "version": "2.7.11"
  }
 },
 "nbformat": 4,
 "nbformat_minor": 0
}
