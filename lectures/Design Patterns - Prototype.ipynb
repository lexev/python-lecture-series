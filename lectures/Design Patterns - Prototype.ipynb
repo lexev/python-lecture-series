{
 "cells": [
  {
   "cell_type": "markdown",
   "metadata": {},
   "source": [
    "## What is it?\n",
    "\n",
    "Prototype is used for creating exact copies of objects. Creating a copy of an object can actually mean two things:\n",
    "\n",
    "    Relying on references, which happens when a shallow copy is created\n",
    "    Duplicating everything, which happens when a deep copy is created\n",
    "    \n",
    "In the first case, we want to focus on improving the performance and the memory usage of our application by introducing data sharing between objects. But we need to be careful about modifying data, because all modifications are visible to all copies. Shallow copies were not introduced in this chapter, but you might want to experiment with them.\n",
    "\n",
    "In the second case, we want to be able to make modifications to one copy without affecting the rest. That's useful for cases like the cake-recipe example that we have seen. Here, no data sharing is done and so we need to be careful about the resource consumption and the overhead that is introduced by our clones.\n",
    "\n",
    "Source: Mastering Python Design Patterns"
   ]
  },
  {
   "cell_type": "code",
   "execution_count": null,
   "metadata": {
    "collapsed": true
   },
   "outputs": [],
   "source": [
    "import copy\n",
    "from collections import OrderedDict\n",
    "\n",
    "class Book:\n",
    "    def __init__(self, name, authors, price, **rest):\n",
    "        '''Examples of rest: publisher, length, tags, publication date'''\n",
    "        self.name = name\n",
    "        self.authors = authors\n",
    "        self.price = price      # in US dollars\n",
    "        self.__dict__.update(rest)\n",
    "\n",
    "    def __str__(self):\n",
    "        mylist=[]\n",
    "        ordered = OrderedDict(sorted(self.__dict__.items()))\n",
    "        for i in ordered.keys():\n",
    "            mylist.append('{}: {}'.format(i, ordered[i]))\n",
    "            if i == 'price':\n",
    "                mylist.append('$')\n",
    "            mylist.append('\\n')\n",
    "        return ''.join(mylist)\n",
    "\n",
    "class Prototype:\n",
    "    def __init__(self):\n",
    "        self.objects = dict()\n",
    "\n",
    "    def register(self, identifier, obj):\n",
    "        self.objects[identifier] = obj\n",
    "\n",
    "    def unregister(self, identifier):\n",
    "        del self.objects[identifier]\n",
    "\n",
    "    def clone(self, identifier, **attr):\n",
    "        found = self.objects.get(identifier)\n",
    "        if not found:\n",
    "            raise ValueError('Incorrect object identifier: {}'.format(identifier))\n",
    "        obj = copy.deepcopy(found)\n",
    "        obj.__dict__.update(attr)\n",
    "        return obj\n",
    "\n",
    "def main():\n",
    "    b1 = Book('The C Programming Language', ('Brian W. Kernighan', 'Dennis M.Ritchie'), price=118, publisher='Prentice Hall', length=228, publication_date='1978-02-22', tags=('C', 'programming', 'algorithms', 'data structures'))\n",
    "\n",
    "    prototype = Prototype()\n",
    "    cid = 'k&r-first'\n",
    "    prototype.register(cid, b1)\n",
    "    b2 = prototype.clone(cid, name='The C Programming Language (ANSI)', price=48.99, length=274, publication_date='1988-04-01', edition=2)\n",
    "\n",
    "    for i in (b1, b2):\n",
    "        print(i)\n",
    "    print(\"ID b1 : {} != ID b2 : {}\".format(id(b1), id(b2)))\n",
    "\n",
    "if __name__ == '__main__':\n",
    "    main()"
   ]
  }
 ],
 "metadata": {
  "kernelspec": {
   "display_name": "Python 2",
   "language": "python",
   "name": "python2"
  },
  "language_info": {
   "codemirror_mode": {
    "name": "ipython",
    "version": 2
   },
   "file_extension": ".py",
   "mimetype": "text/x-python",
   "name": "python",
   "nbconvert_exporter": "python",
   "pygments_lexer": "ipython2",
   "version": "2.7.11"
  }
 },
 "nbformat": 4,
 "nbformat_minor": 0
}
