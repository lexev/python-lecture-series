{
 "cells": [
  {
   "cell_type": "markdown",
   "metadata": {},
   "source": [
    "## What\n",
    "Allows 2 incompatible interfaces to work together. The Adapter needs to solve the issue that all classes must implement every method defined by the shared interface."
   ]
  },
  {
   "cell_type": "code",
   "execution_count": 7,
   "metadata": {
    "collapsed": false
   },
   "outputs": [
    {
     "name": "stdout",
     "output_type": "stream",
     "text": [
      "The Bingo universal mobile app starts an app\n",
      "The AndroidBingo Android App is executing an Android App\n",
      "iOSBingo The iOS App is executing an iOS App\n"
     ]
    }
   ],
   "source": [
    "class AndroidApp:\n",
    "    def __init__(self, name):\n",
    "        self.name = name\n",
    "\n",
    "    def __str__(self):\n",
    "        return 'The {} Android App'.format(self.name)\n",
    "\n",
    "    def playstore_play(self):\n",
    "        return 'is executing an Android App'\n",
    "\n",
    "class iOSApp:\n",
    "    def __init__(self, name):\n",
    "        self.name = name\n",
    "\n",
    "    def __str__(self):\n",
    "        return '{} The iOS App'.format(self.name)\n",
    "\n",
    "    def itunes_play(self):\n",
    "        return 'is executing an iOS App'\n",
    "\n",
    "class UniversalMobileApp:\n",
    "    def __init__(self, name):\n",
    "        self.name = name\n",
    "\n",
    "    def __str__(self):\n",
    "        return 'The {} universal mobile app'.format(self.name)\n",
    "\n",
    "    def execute(self):\n",
    "        return 'starts an app'\n",
    "\n",
    "class Adapter:\n",
    "    def __init__(self, obj, adapted_methods):\n",
    "        self.obj = obj\n",
    "        self.__dict__.update(adapted_methods)\n",
    "\n",
    "    def __str__(self):\n",
    "        return str(self.obj)\n",
    "\n",
    "def main():\n",
    "    objects = [UniversalMobileApp('Bingo')]\n",
    "    android_app = AndroidApp('AndroidBingo')\n",
    "    objects.append(Adapter(android_app, dict(execute=android_app.playstore_play)))\n",
    "    ios_app = iOSApp('iOSBingo')\n",
    "    objects.append(Adapter(ios_app, dict(execute=ios_app.itunes_play)))\n",
    "\n",
    "    for i in objects:\n",
    "        print('{} {}'.format(str(i), i.execute()))\n",
    "\n",
    "if __name__ == \"__main__\":\n",
    "    main()"
   ]
  },
  {
   "cell_type": "code",
   "execution_count": null,
   "metadata": {
    "collapsed": true
   },
   "outputs": [],
   "source": []
  }
 ],
 "metadata": {
  "kernelspec": {
   "display_name": "Python 3",
   "language": "python",
   "name": "python3"
  },
  "language_info": {
   "codemirror_mode": {
    "name": "ipython",
    "version": 3
   },
   "file_extension": ".py",
   "mimetype": "text/x-python",
   "name": "python",
   "nbconvert_exporter": "python",
   "pygments_lexer": "ipython3",
   "version": "3.5.1"
  }
 },
 "nbformat": 4,
 "nbformat_minor": 0
}
