{
 "cells": [
  {
   "cell_type": "markdown",
   "metadata": {},
   "source": [
    "## What\n",
    "When you create a simplified interface that performs many other actions behind the scenes. \n",
    "Sometimes you may end up with a very large/confusing collection of classes and interactions. It's important to hide \n",
    "this complexity from the client via a Facade."
   ]
  },
  {
   "cell_type": "code",
   "execution_count": 7,
   "metadata": {
    "collapsed": false
   },
   "outputs": [
    {
     "name": "stdout",
     "output_type": "stream",
     "text": [
      "Booting the FileServer\n",
      "Booting the ProcessServer\n",
      "Creating file 'hello' for user 'foo' with permissions -rw-r-r\n",
      "Creating the process 'ls /tmp' for user 'bar'\n"
     ]
    }
   ],
   "source": [
    "# motivation: build a multi-server OS http://www.helenos.org/doc/slides/2010-02-03-Jermar-Multiserver.pdf \n",
    "# source: Mastering Python Design Patterns\n",
    "from enum import Enum\n",
    "from abc import ABCMeta, abstractmethod\n",
    "\n",
    "State = Enum('State', 'new running sleeping restart zombie')\n",
    "\n",
    "class User:\n",
    "    pass\n",
    "\n",
    "class Process:\n",
    "    pass\n",
    "\n",
    "class File:\n",
    "    pass\n",
    "\n",
    "class AuthenticationServer:\n",
    "    pass\n",
    "\n",
    "class NetworkServer:\n",
    "    pass\n",
    "\n",
    "class Server(metaclass=ABCMeta):\n",
    "    # a decorator: way of altering functions/classes w/out having to inherit or subclass\n",
    "    # forces functions to be named / implemented in subclasses\n",
    "    @abstractmethod\n",
    "    def __init__(self):\n",
    "        pass\n",
    "\n",
    "    def __str__(self):\n",
    "        return self.name\n",
    "\n",
    "    @abstractmethod\n",
    "    def boot(self):\n",
    "        pass\n",
    "\n",
    "    @abstractmethod \n",
    "    def kill(self, restart=True):\n",
    "        pass\n",
    "\n",
    "class FileServer(Server):\n",
    "    def __init__(self):\n",
    "        self.name = 'FileServer'\n",
    "        self.state = State.new\n",
    "\n",
    "    def boot(self):\n",
    "        print('Booting the {}'.format(self))\n",
    "        self.state = State.running\n",
    "\n",
    "    def kill(self, restart=True):\n",
    "        print('Killing {}'.format(self))\n",
    "        self.state = State.restart if restart else State.zombie\n",
    "\n",
    "    def create_file(self, user, name, permissions):\n",
    "        print(\"Creating file '{}' for user '{}' with permissions {}\".format(name, user, permissions))\n",
    "\n",
    "class ProcessServer(Server):\n",
    "    def __init__(self):\n",
    "        self.name = 'ProcessServer'\n",
    "        self.state = State.new\n",
    "\n",
    "    def boot(self):\n",
    "        print('Booting the {}'.format(self))\n",
    "        self.state = State.running\n",
    "\n",
    "    def kill(self, restart=True):\n",
    "        print('Killing {}'.format(self))\n",
    "        self.state = State.restart if restart else State.zombie\n",
    "\n",
    "    def create_process(self, user, name):\n",
    "        print(\"Creating the process '{}' for user '{}'\".format(name, user))\n",
    "\n",
    "class OperatingSystem:\n",
    "    '''The Facade'''\n",
    "    def __init__(self):\n",
    "        self.fs = FileServer()\n",
    "        self.ps = ProcessServer()\n",
    "\n",
    "    def start(self):\n",
    "        [i.boot() for i in (self.fs, self.ps)]\n",
    "\n",
    "    def create_file(self, user, name, permissions):\n",
    "        return self.fs.create_file(user, name, permissions)\n",
    "\n",
    "    def create_process(self, user, name):\n",
    "        return self.ps.create_process(user, name)\n",
    "\n",
    "def main():\n",
    "    os = OperatingSystem()\n",
    "    os.start() \n",
    "    os.create_file('foo', 'hello', '-rw-r-r')\n",
    "    os.create_process('bar', 'ls /tmp')\n",
    "\n",
    "if __name__ == '__main__':\n",
    "    main()"
   ]
  },
  {
   "cell_type": "markdown",
   "metadata": {},
   "source": [
    "## Exercise: Implement one of the methods"
   ]
  },
  {
   "cell_type": "code",
   "execution_count": null,
   "metadata": {
    "collapsed": true
   },
   "outputs": [],
   "source": []
  }
 ],
 "metadata": {
  "kernelspec": {
   "display_name": "Python 3",
   "language": "python",
   "name": "python3"
  },
  "language_info": {
   "codemirror_mode": {
    "name": "ipython",
    "version": 3
   },
   "file_extension": ".py",
   "mimetype": "text/x-python",
   "name": "python",
   "nbconvert_exporter": "python",
   "pygments_lexer": "ipython3",
   "version": "3.5.1"
  }
 },
 "nbformat": 4,
 "nbformat_minor": 0
}
