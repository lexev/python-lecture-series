{
 "cells": [
  {
   "cell_type": "markdown",
   "metadata": {},
   "source": [
    "## What\n",
    "Create a class which limits access to another class. You'll want to do this for security reasons. "
   ]
  },
  {
   "cell_type": "code",
   "execution_count": null,
   "metadata": {
    "collapsed": false
   },
   "outputs": [
    {
     "name": "stdout",
     "output_type": "stream",
     "text": [
      "1. See ATM Machine State |==| 2. quit\n",
      "choose option: 1\n",
      "Machine is operational.\n",
      "1. See ATM Machine State |==| 2. quit\n",
      "choose option: 2\n",
      "unknown option: 2\n",
      "1. See ATM Machine State |==| 2. quit\n"
     ]
    }
   ],
   "source": [
    "class ATMMachine:\n",
    "    def __init__(self):\n",
    "        self.users_balance = {'matt': 0, 'derek':0, 'katy': 0}\n",
    "\n",
    "    def get_atm_state(self):\n",
    "        print(\"Machine is operational.\")\n",
    "        \n",
    "    def show_user_balances(self):\n",
    "        print('There are {} users: {}'.format(self.keys()), self.users_balance.values())\n",
    "\n",
    "    def deposit(self, user, amount):\n",
    "        self.users_balance[user] = amount\n",
    "        print('deposit for user {}'.format(user))\n",
    "         \n",
    "        \n",
    "class ATMProxy: \n",
    "    '''protection proxy to ATMMachine'''\n",
    "\n",
    "    def __init__(self):\n",
    "        self.protected = ATMMachine()\n",
    "        \n",
    "    def get_atm_state(self):\n",
    "        self.protected.get_atm_state()\n",
    "        \n",
    "#     Client not allowed to call secure methods as it's not available from proxy, callable from other secure classes \n",
    "#     def deposit(self, user, amount):\n",
    "#         self.protected.deposit(user, amount)  \n",
    "#     def withdraw(self, user):\n",
    "#         sec = input('what is the secret? ')\n",
    "#         self.protected.deposit(user) if sec == self.secret else print(\"That's wrong!\")\n",
    "\n",
    "\n",
    "def main():\n",
    "    atm_proxy = ATMProxy()\n",
    "\n",
    "    while True:\n",
    "        print('1. See ATM Machine State |==| 2. quit')\n",
    "        key = input('choose option: ')\n",
    "        if key == '1':\n",
    "            atm_proxy.get_atm_state()\n",
    "        elif key == '3':\n",
    "            exit()\n",
    "        else:\n",
    "            print('unknown option: {}'.format(key))\n",
    "\n",
    "if __name__ == '__main__':\n",
    "    main()"
   ]
  },
  {
   "cell_type": "markdown",
   "metadata": {
    "collapsed": true
   },
   "source": []
  },
  {
   "cell_type": "code",
   "execution_count": null,
   "metadata": {
    "collapsed": true
   },
   "outputs": [],
   "source": []
  }
 ],
 "metadata": {
  "kernelspec": {
   "display_name": "Python 3",
   "language": "python",
   "name": "python3"
  },
  "language_info": {
   "codemirror_mode": {
    "name": "ipython",
    "version": 3
   },
   "file_extension": ".py",
   "mimetype": "text/x-python",
   "name": "python",
   "nbconvert_exporter": "python",
   "pygments_lexer": "ipython3",
   "version": "3.5.1"
  }
 },
 "nbformat": 4,
 "nbformat_minor": 0
}
