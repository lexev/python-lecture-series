{
 "cells": [
  {
   "cell_type": "markdown",
   "metadata": {},
   "source": [
    "Work with **Numbers**"
   ]
  },
  {
   "cell_type": "code",
   "execution_count": 9,
   "metadata": {
    "collapsed": true
   },
   "outputs": [],
   "source": [
    "# this is a comment"
   ]
  },
  {
   "cell_type": "code",
   "execution_count": 1,
   "metadata": {
    "collapsed": true
   },
   "outputs": [],
   "source": [
    "number = 10"
   ]
  },
  {
   "cell_type": "code",
   "execution_count": 3,
   "metadata": {
    "collapsed": false
   },
   "outputs": [
    {
     "data": {
      "text/plain": [
       "10"
      ]
     },
     "execution_count": 3,
     "metadata": {},
     "output_type": "execute_result"
    }
   ],
   "source": [
    "number"
   ]
  },
  {
   "cell_type": "code",
   "execution_count": 4,
   "metadata": {
    "collapsed": false
   },
   "outputs": [
    {
     "data": {
      "text/plain": [
       "4"
      ]
     },
     "execution_count": 4,
     "metadata": {},
     "output_type": "execute_result"
    }
   ],
   "source": [
    "2 + 2"
   ]
  },
  {
   "cell_type": "code",
   "execution_count": 5,
   "metadata": {
    "collapsed": false
   },
   "outputs": [
    {
     "data": {
      "text/plain": [
       "0"
      ]
     },
     "execution_count": 5,
     "metadata": {},
     "output_type": "execute_result"
    }
   ],
   "source": [
    "(4 - 6) + 2"
   ]
  },
  {
   "cell_type": "code",
   "execution_count": 13,
   "metadata": {
    "collapsed": false
   },
   "outputs": [
    {
     "data": {
      "text/plain": [
       "5.0"
      ]
     },
     "execution_count": 13,
     "metadata": {},
     "output_type": "execute_result"
    }
   ],
   "source": [
    "15/3"
   ]
  },
  {
   "cell_type": "code",
   "execution_count": 17,
   "metadata": {
    "collapsed": false
   },
   "outputs": [
    {
     "data": {
      "text/plain": [
       "5.666666666666667"
      ]
     },
     "execution_count": 17,
     "metadata": {},
     "output_type": "execute_result"
    }
   ],
   "source": [
    "17/3"
   ]
  },
  {
   "cell_type": "code",
   "execution_count": 119,
   "metadata": {
    "collapsed": false
   },
   "outputs": [
    {
     "data": {
      "text/plain": [
       "5"
      ]
     },
     "execution_count": 119,
     "metadata": {},
     "output_type": "execute_result"
    }
   ],
   "source": [
    "#throw out fractional part \n",
    "17//3"
   ]
  },
  {
   "cell_type": "code",
   "execution_count": 26,
   "metadata": {
    "collapsed": false
   },
   "outputs": [
    {
     "data": {
      "text/plain": [
       "5.666666666666667"
      ]
     },
     "execution_count": 26,
     "metadata": {},
     "output_type": "execute_result"
    }
   ],
   "source": [
    "17/3"
   ]
  },
  {
   "cell_type": "code",
   "execution_count": 22,
   "metadata": {
    "collapsed": false
   },
   "outputs": [
    {
     "data": {
      "text/plain": [
       "4"
      ]
     },
     "execution_count": 22,
     "metadata": {},
     "output_type": "execute_result"
    }
   ],
   "source": [
    "73435124 % 10"
   ]
  },
  {
   "cell_type": "code",
   "execution_count": 24,
   "metadata": {
    "collapsed": false
   },
   "outputs": [
    {
     "data": {
      "text/plain": [
       "7343512"
      ]
     },
     "execution_count": 24,
     "metadata": {},
     "output_type": "execute_result"
    }
   ],
   "source": [
    "73435124//10"
   ]
  },
  {
   "cell_type": "code",
   "execution_count": 12,
   "metadata": {
    "collapsed": false
   },
   "outputs": [
    {
     "data": {
      "text/plain": [
       "0"
      ]
     },
     "execution_count": 12,
     "metadata": {},
     "output_type": "execute_result"
    }
   ],
   "source": [
    "4 % 2"
   ]
  },
  {
   "cell_type": "code",
   "execution_count": 27,
   "metadata": {
    "collapsed": false
   },
   "outputs": [
    {
     "data": {
      "text/plain": [
       "16"
      ]
     },
     "execution_count": 27,
     "metadata": {},
     "output_type": "execute_result"
    }
   ],
   "source": [
    "2**4"
   ]
  },
  {
   "cell_type": "code",
   "execution_count": 39,
   "metadata": {
    "collapsed": false
   },
   "outputs": [
    {
     "name": "stdout",
     "output_type": "stream",
     "text": [
      "25\n"
     ]
    }
   ],
   "source": [
    "length = 5\n",
    "width = 5\n",
    "print(area_of_rectangle)\n",
    "area_of_rectangle = length * width\n",
    "pass"
   ]
  },
  {
   "cell_type": "code",
   "execution_count": 34,
   "metadata": {
    "collapsed": false
   },
   "outputs": [
    {
     "ename": "NameError",
     "evalue": "name 'n' is not defined",
     "output_type": "error",
     "traceback": [
      "\u001b[0;31m---------------------------------------------------------------------------\u001b[0m",
      "\u001b[0;31mNameError\u001b[0m                                 Traceback (most recent call last)",
      "\u001b[0;32m<ipython-input-34-fe13119fb084>\u001b[0m in \u001b[0;36m<module>\u001b[0;34m()\u001b[0m\n\u001b[0;32m----> 1\u001b[0;31m \u001b[0mn\u001b[0m\u001b[0;34m\u001b[0m\u001b[0m\n\u001b[0m",
      "\u001b[0;31mNameError\u001b[0m: name 'n' is not defined"
     ]
    }
   ],
   "source": [
    "n"
   ]
  },
  {
   "cell_type": "code",
   "execution_count": 41,
   "metadata": {
    "collapsed": false
   },
   "outputs": [
    {
     "data": {
      "text/plain": [
       "['In',\n",
       " 'Out',\n",
       " '_',\n",
       " '_12',\n",
       " '_13',\n",
       " '_14',\n",
       " '_15',\n",
       " '_16',\n",
       " '_17',\n",
       " '_18',\n",
       " '_19',\n",
       " '_20',\n",
       " '_21',\n",
       " '_22',\n",
       " '_23',\n",
       " '_24',\n",
       " '_25',\n",
       " '_26',\n",
       " '_27',\n",
       " '_29',\n",
       " '_3',\n",
       " '_36',\n",
       " '_4',\n",
       " '_40',\n",
       " '_5',\n",
       " '_6',\n",
       " '__',\n",
       " '___',\n",
       " '__builtin__',\n",
       " '__builtins__',\n",
       " '__doc__',\n",
       " '__loader__',\n",
       " '__name__',\n",
       " '__package__',\n",
       " '__spec__',\n",
       " '_dh',\n",
       " '_i',\n",
       " '_i1',\n",
       " '_i10',\n",
       " '_i11',\n",
       " '_i12',\n",
       " '_i13',\n",
       " '_i14',\n",
       " '_i15',\n",
       " '_i16',\n",
       " '_i17',\n",
       " '_i18',\n",
       " '_i19',\n",
       " '_i2',\n",
       " '_i20',\n",
       " '_i21',\n",
       " '_i22',\n",
       " '_i23',\n",
       " '_i24',\n",
       " '_i25',\n",
       " '_i26',\n",
       " '_i27',\n",
       " '_i28',\n",
       " '_i29',\n",
       " '_i3',\n",
       " '_i30',\n",
       " '_i31',\n",
       " '_i32',\n",
       " '_i33',\n",
       " '_i34',\n",
       " '_i35',\n",
       " '_i36',\n",
       " '_i37',\n",
       " '_i38',\n",
       " '_i39',\n",
       " '_i4',\n",
       " '_i40',\n",
       " '_i41',\n",
       " '_i5',\n",
       " '_i6',\n",
       " '_i7',\n",
       " '_i8',\n",
       " '_i9',\n",
       " '_ih',\n",
       " '_ii',\n",
       " '_iii',\n",
       " '_oh',\n",
       " '_sh',\n",
       " 'area_of_rectangle',\n",
       " 'exit',\n",
       " 'get_ipython',\n",
       " 'length',\n",
       " 'number',\n",
       " 'os',\n",
       " 'quit',\n",
       " 'width']"
      ]
     },
     "execution_count": 41,
     "metadata": {},
     "output_type": "execute_result"
    }
   ],
   "source": [
    "# list all defined variables\n",
    "dir()"
   ]
  },
  {
   "cell_type": "markdown",
   "metadata": {},
   "source": [
    "**Strings**"
   ]
  },
  {
   "cell_type": "code",
   "execution_count": 42,
   "metadata": {
    "collapsed": false
   },
   "outputs": [
    {
     "data": {
      "text/plain": [
       "'this is a string'"
      ]
     },
     "execution_count": 42,
     "metadata": {},
     "output_type": "execute_result"
    }
   ],
   "source": [
    "# bit (0,1)\n",
    "# byte (8 bits) aka char\n",
    "# string => array of chars\n",
    "'this is a string'"
   ]
  },
  {
   "cell_type": "code",
   "execution_count": 43,
   "metadata": {
    "collapsed": false
   },
   "outputs": [
    {
     "data": {
      "text/plain": [
       "'this is also a string'"
      ]
     },
     "execution_count": 43,
     "metadata": {},
     "output_type": "execute_result"
    }
   ],
   "source": [
    "\"this is also a string\""
   ]
  },
  {
   "cell_type": "code",
   "execution_count": 48,
   "metadata": {
    "collapsed": false
   },
   "outputs": [
    {
     "data": {
      "text/plain": [
       "\"it's my class\""
      ]
     },
     "execution_count": 48,
     "metadata": {},
     "output_type": "execute_result"
    }
   ],
   "source": [
    "# this implicitely escapes characters which need to be escaped\n",
    "\"it's my class\""
   ]
  },
  {
   "cell_type": "code",
   "execution_count": 49,
   "metadata": {
    "collapsed": false
   },
   "outputs": [
    {
     "data": {
      "text/plain": [
       "\"it's my class\""
      ]
     },
     "execution_count": 49,
     "metadata": {},
     "output_type": "execute_result"
    }
   ],
   "source": [
    "# this is how you escape a character\n",
    "'it\\'s my class'"
   ]
  },
  {
   "cell_type": "code",
   "execution_count": 54,
   "metadata": {
    "collapsed": false
   },
   "outputs": [
    {
     "name": "stdout",
     "output_type": "stream",
     "text": [
      "Hi mom,\n",
      "Today I learned that chairs can be super confusing. \n",
      "I also learned that books can be very expensive!!!\n"
     ]
    }
   ],
   "source": [
    "#TIL\n",
    "today_i_learned = \"Hi mom,\\nToday I learned that chairs can be super confusing. \\nI also learned that books can be very expensive!!!\"\n",
    "print(today_i_learned)"
   ]
  },
  {
   "cell_type": "code",
   "execution_count": 57,
   "metadata": {
    "collapsed": false
   },
   "outputs": [
    {
     "name": "stdout",
     "output_type": "stream",
     "text": [
      "\n",
      "Hi mom,\n",
      "Today I learned that chairs can be super confusing.\n",
      "I also learned that books can be very expensive!!!\"\n",
      "\n"
     ]
    }
   ],
   "source": [
    "# multi-line print \n",
    "print(\"\"\"\n",
    "Hi mom,\n",
    "Today I learned that chairs can be super confusing.\n",
    "I also learned that books can be very expensive!!!\"\n",
    "\"\"\")"
   ]
  },
  {
   "cell_type": "code",
   "execution_count": 62,
   "metadata": {
    "collapsed": false
   },
   "outputs": [
    {
     "name": "stdout",
     "output_type": "stream",
     "text": [
      "Hi mom,\n",
      "Today I learned that chairs can be super confusing. \n",
      "I also learned that books can be very expensive!!!Hi mom,\n",
      "Today I learned that chairs can be super confusing. \n",
      "I also learned that books can be very expensive!!!Hi mom,\n",
      "Today I learned that chairs can be super confusing. \n",
      "I also learned that books can be very expensive!!!Hi mom,\n",
      "Today I learned that chairs can be super confusing. \n",
      "I also learned that books can be very expensive!!!Hi mom,\n",
      "Today I learned that chairs can be super confusing. \n",
      "I also learned that books can be very expensive!!!Hi mom,\n",
      "Today I learned that chairs can be super confusing. \n",
      "I also learned that books can be very expensive!!!Hi mom,\n",
      "Today I learned that chairs can be super confusing. \n",
      "I also learned that books can be very expensive!!!Hi mom,\n",
      "Today I learned that chairs can be super confusing. \n",
      "I also learned that books can be very expensive!!!Hi mom,\n",
      "Today I learned that chairs can be super confusing. \n",
      "I also learned that books can be very expensive!!!Hi mom,\n",
      "Today I learned that chairs can be super confusing. \n",
      "I also learned that books can be very expensive!!!Hi mom,\n",
      "Today I learned that chairs can be super confusing. \n",
      "I also learned that books can be very expensive!!!Hi mom,\n",
      "Today I learned that chairs can be super confusing. \n",
      "I also learned that books can be very expensive!!!Hi mom,\n",
      "Today I learned that chairs can be super confusing. \n",
      "I also learned that books can be very expensive!!!Hi mom,\n",
      "Today I learned that chairs can be super confusing. \n",
      "I also learned that books can be very expensive!!!Hi mom,\n",
      "Today I learned that chairs can be super confusing. \n",
      "I also learned that books can be very expensive!!!Hi mom,\n",
      "Today I learned that chairs can be super confusing. \n",
      "I also learned that books can be very expensive!!!Hi mom,\n",
      "Today I learned that chairs can be super confusing. \n",
      "I also learned that books can be very expensive!!!Hi mom,\n",
      "Today I learned that chairs can be super confusing. \n",
      "I also learned that books can be very expensive!!!Hi mom,\n",
      "Today I learned that chairs can be super confusing. \n",
      "I also learned that books can be very expensive!!!Hi mom,\n",
      "Today I learned that chairs can be super confusing. \n",
      "I also learned that books can be very expensive!!!Hi mom,\n",
      "Today I learned that chairs can be super confusing. \n",
      "I also learned that books can be very expensive!!!Hi mom,\n",
      "Today I learned that chairs can be super confusing. \n",
      "I also learned that books can be very expensive!!!Hi mom,\n",
      "Today I learned that chairs can be super confusing. \n",
      "I also learned that books can be very expensive!!!Hi mom,\n",
      "Today I learned that chairs can be super confusing. \n",
      "I also learned that books can be very expensive!!!Hi mom,\n",
      "Today I learned that chairs can be super confusing. \n",
      "I also learned that books can be very expensive!!!Hi mom,\n",
      "Today I learned that chairs can be super confusing. \n",
      "I also learned that books can be very expensive!!!Hi mom,\n",
      "Today I learned that chairs can be super confusing. \n",
      "I also learned that books can be very expensive!!!Hi mom,\n",
      "Today I learned that chairs can be super confusing. \n",
      "I also learned that books can be very expensive!!!Hi mom,\n",
      "Today I learned that chairs can be super confusing. \n",
      "I also learned that books can be very expensive!!!Hi mom,\n",
      "Today I learned that chairs can be super confusing. \n",
      "I also learned that books can be very expensive!!!Hi mom,\n",
      "Today I learned that chairs can be super confusing. \n",
      "I also learned that books can be very expensive!!!Hi mom,\n",
      "Today I learned that chairs can be super confusing. \n",
      "I also learned that books can be very expensive!!!Hi mom,\n",
      "Today I learned that chairs can be super confusing. \n",
      "I also learned that books can be very expensive!!!Hi mom,\n",
      "Today I learned that chairs can be super confusing. \n",
      "I also learned that books can be very expensive!!!Hi mom,\n",
      "Today I learned that chairs can be super confusing. \n",
      "I also learned that books can be very expensive!!!Hi mom,\n",
      "Today I learned that chairs can be super confusing. \n",
      "I also learned that books can be very expensive!!!Hi mom,\n",
      "Today I learned that chairs can be super confusing. \n",
      "I also learned that books can be very expensive!!!Hi mom,\n",
      "Today I learned that chairs can be super confusing. \n",
      "I also learned that books can be very expensive!!!Hi mom,\n",
      "Today I learned that chairs can be super confusing. \n",
      "I also learned that books can be very expensive!!!Hi mom,\n",
      "Today I learned that chairs can be super confusing. \n",
      "I also learned that books can be very expensive!!!Hi mom,\n",
      "Today I learned that chairs can be super confusing. \n",
      "I also learned that books can be very expensive!!!Hi mom,\n",
      "Today I learned that chairs can be super confusing. \n",
      "I also learned that books can be very expensive!!!Hi mom,\n",
      "Today I learned that chairs can be super confusing. \n",
      "I also learned that books can be very expensive!!!Hi mom,\n",
      "Today I learned that chairs can be super confusing. \n",
      "I also learned that books can be very expensive!!!Hi mom,\n",
      "Today I learned that chairs can be super confusing. \n",
      "I also learned that books can be very expensive!!!Hi mom,\n",
      "Today I learned that chairs can be super confusing. \n",
      "I also learned that books can be very expensive!!!Hi mom,\n",
      "Today I learned that chairs can be super confusing. \n",
      "I also learned that books can be very expensive!!!Hi mom,\n",
      "Today I learned that chairs can be super confusing. \n",
      "I also learned that books can be very expensive!!!Hi mom,\n",
      "Today I learned that chairs can be super confusing. \n",
      "I also learned that books can be very expensive!!!Hi mom,\n",
      "Today I learned that chairs can be super confusing. \n",
      "I also learned that books can be very expensive!!!Hi mom,\n",
      "Today I learned that chairs can be super confusing. \n",
      "I also learned that books can be very expensive!!!Hi mom,\n",
      "Today I learned that chairs can be super confusing. \n",
      "I also learned that books can be very expensive!!!Hi mom,\n",
      "Today I learned that chairs can be super confusing. \n",
      "I also learned that books can be very expensive!!!Hi mom,\n",
      "Today I learned that chairs can be super confusing. \n",
      "I also learned that books can be very expensive!!!Hi mom,\n",
      "Today I learned that chairs can be super confusing. \n",
      "I also learned that books can be very expensive!!!Hi mom,\n",
      "Today I learned that chairs can be super confusing. \n",
      "I also learned that books can be very expensive!!!Hi mom,\n",
      "Today I learned that chairs can be super confusing. \n",
      "I also learned that books can be very expensive!!!Hi mom,\n",
      "Today I learned that chairs can be super confusing. \n",
      "I also learned that books can be very expensive!!!Hi mom,\n",
      "Today I learned that chairs can be super confusing. \n",
      "I also learned that books can be very expensive!!!Hi mom,\n",
      "Today I learned that chairs can be super confusing. \n",
      "I also learned that books can be very expensive!!!Hi mom,\n",
      "Today I learned that chairs can be super confusing. \n",
      "I also learned that books can be very expensive!!!Hi mom,\n",
      "Today I learned that chairs can be super confusing. \n",
      "I also learned that books can be very expensive!!!Hi mom,\n",
      "Today I learned that chairs can be super confusing. \n",
      "I also learned that books can be very expensive!!!Hi mom,\n",
      "Today I learned that chairs can be super confusing. \n",
      "I also learned that books can be very expensive!!!Hi mom,\n",
      "Today I learned that chairs can be super confusing. \n",
      "I also learned that books can be very expensive!!!Hi mom,\n",
      "Today I learned that chairs can be super confusing. \n",
      "I also learned that books can be very expensive!!!Hi mom,\n",
      "Today I learned that chairs can be super confusing. \n",
      "I also learned that books can be very expensive!!!Hi mom,\n",
      "Today I learned that chairs can be super confusing. \n",
      "I also learned that books can be very expensive!!!Hi mom,\n",
      "Today I learned that chairs can be super confusing. \n",
      "I also learned that books can be very expensive!!!Hi mom,\n",
      "Today I learned that chairs can be super confusing. \n",
      "I also learned that books can be very expensive!!!Hi mom,\n",
      "Today I learned that chairs can be super confusing. \n",
      "I also learned that books can be very expensive!!!Hi mom,\n",
      "Today I learned that chairs can be super confusing. \n",
      "I also learned that books can be very expensive!!!Hi mom,\n",
      "Today I learned that chairs can be super confusing. \n",
      "I also learned that books can be very expensive!!!Hi mom,\n",
      "Today I learned that chairs can be super confusing. \n",
      "I also learned that books can be very expensive!!!Hi mom,\n",
      "Today I learned that chairs can be super confusing. \n",
      "I also learned that books can be very expensive!!!Hi mom,\n",
      "Today I learned that chairs can be super confusing. \n",
      "I also learned that books can be very expensive!!!Hi mom,\n",
      "Today I learned that chairs can be super confusing. \n",
      "I also learned that books can be very expensive!!!Hi mom,\n",
      "Today I learned that chairs can be super confusing. \n",
      "I also learned that books can be very expensive!!!Hi mom,\n",
      "Today I learned that chairs can be super confusing. \n",
      "I also learned that books can be very expensive!!!Hi mom,\n",
      "Today I learned that chairs can be super confusing. \n",
      "I also learned that books can be very expensive!!!Hi mom,\n",
      "Today I learned that chairs can be super confusing. \n",
      "I also learned that books can be very expensive!!!Hi mom,\n",
      "Today I learned that chairs can be super confusing. \n",
      "I also learned that books can be very expensive!!!Hi mom,\n",
      "Today I learned that chairs can be super confusing. \n",
      "I also learned that books can be very expensive!!!Hi mom,\n",
      "Today I learned that chairs can be super confusing. \n",
      "I also learned that books can be very expensive!!!Hi mom,\n",
      "Today I learned that chairs can be super confusing. \n",
      "I also learned that books can be very expensive!!!Hi mom,\n",
      "Today I learned that chairs can be super confusing. \n",
      "I also learned that books can be very expensive!!!Hi mom,\n",
      "Today I learned that chairs can be super confusing. \n",
      "I also learned that books can be very expensive!!!Hi mom,\n",
      "Today I learned that chairs can be super confusing. \n",
      "I also learned that books can be very expensive!!!Hi mom,\n",
      "Today I learned that chairs can be super confusing. \n",
      "I also learned that books can be very expensive!!!Hi mom,\n",
      "Today I learned that chairs can be super confusing. \n",
      "I also learned that books can be very expensive!!!Hi mom,\n",
      "Today I learned that chairs can be super confusing. \n",
      "I also learned that books can be very expensive!!!Hi mom,\n",
      "Today I learned that chairs can be super confusing. \n",
      "I also learned that books can be very expensive!!!Hi mom,\n",
      "Today I learned that chairs can be super confusing. \n",
      "I also learned that books can be very expensive!!!Hi mom,\n",
      "Today I learned that chairs can be super confusing. \n",
      "I also learned that books can be very expensive!!!Hi mom,\n",
      "Today I learned that chairs can be super confusing. \n",
      "I also learned that books can be very expensive!!!Hi mom,\n",
      "Today I learned that chairs can be super confusing. \n",
      "I also learned that books can be very expensive!!!Hi mom,\n",
      "Today I learned that chairs can be super confusing. \n",
      "I also learned that books can be very expensive!!!Hi mom,\n",
      "Today I learned that chairs can be super confusing. \n",
      "I also learned that books can be very expensive!!!Hi mom,\n",
      "Today I learned that chairs can be super confusing. \n",
      "I also learned that books can be very expensive!!!Hi mom,\n",
      "Today I learned that chairs can be super confusing. \n",
      "I also learned that books can be very expensive!!!\n"
     ]
    }
   ],
   "source": [
    "# how to print standards like a Boss!\n",
    "print(today_i_learned * 100)"
   ]
  },
  {
   "cell_type": "code",
   "execution_count": 68,
   "metadata": {
    "collapsed": false
   },
   "outputs": [
    {
     "name": "stdout",
     "output_type": "stream",
     "text": [
      "Today I learned\n",
      "Today I learned\n"
     ]
    }
   ],
   "source": [
    "today = 'Today'\n",
    "i = \"I\"\n",
    "learned = 'learned'\n",
    "space = ' '\n",
    "# novice programming would do...\n",
    "print(today +' '+ i +' '+ learned)\n",
    "\n",
    "# a more experienced programmer would...\n",
    "print(today + space + i + space + learned)\n"
   ]
  },
  {
   "cell_type": "code",
   "execution_count": 85,
   "metadata": {
    "collapsed": false
   },
   "outputs": [
    {
     "name": "stdout",
     "output_type": "stream",
     "text": [
      "Hi mom,\n",
      "Today I learned that chairs can be super confusing. \n",
      "I also learned that books can be very expensive!!!\n"
     ]
    },
    {
     "data": {
      "text/plain": [
       "'Hi mom,\\nToday I learned that chairs can be super confusing. \\nI also learned that books can be very expensive!'"
      ]
     },
     "execution_count": 85,
     "metadata": {},
     "output_type": "execute_result"
    }
   ],
   "source": [
    "print(today_i_learned)\n",
    "today_i_learned[0] # it's a just array of characters\n",
    "today_i_learned[1]\n",
    "today_i_learned[8] # value is 'T' b/c of newline\n",
    "today_i_learned[0:3] # returns first 3 characters\n",
    "today_i_learned[-1] # last character\n",
    "today_i_learned[0:3] + today_i_learned[3:7]\n",
    "today_i_learned[:-2] # everything but the last two chars"
   ]
  },
  {
   "cell_type": "code",
   "execution_count": 89,
   "metadata": {
    "collapsed": false
   },
   "outputs": [
    {
     "data": {
      "text/plain": [
       "'HI MOM,\\nTODAY I LEARNED THAT CHAIRS CAN BE SUPER CONFUSING. \\nI ALSO LEARNED THAT BOOKS CAN BE VERY EXPENSIVE!!!'"
      ]
     },
     "execution_count": 89,
     "metadata": {},
     "output_type": "execute_result"
    }
   ],
   "source": [
    "today_i_learned.upper()"
   ]
  },
  {
   "cell_type": "code",
   "execution_count": 91,
   "metadata": {
    "collapsed": false
   },
   "outputs": [
    {
     "data": {
      "text/plain": [
       "['Hi',\n",
       " 'mom,',\n",
       " 'Today',\n",
       " 'I',\n",
       " 'learned',\n",
       " 'that',\n",
       " 'chairs',\n",
       " 'can',\n",
       " 'be',\n",
       " 'super',\n",
       " 'confusing.',\n",
       " 'I',\n",
       " 'also',\n",
       " 'learned',\n",
       " 'that',\n",
       " 'books',\n",
       " 'can',\n",
       " 'be',\n",
       " 'very',\n",
       " 'expensive!!!']"
      ]
     },
     "execution_count": 91,
     "metadata": {},
     "output_type": "execute_result"
    }
   ],
   "source": [
    "today_i_learned.split()"
   ]
  },
  {
   "cell_type": "code",
   "execution_count": 94,
   "metadata": {
    "collapsed": false
   },
   "outputs": [
    {
     "data": {
      "text/plain": [
       "list"
      ]
     },
     "execution_count": 94,
     "metadata": {},
     "output_type": "execute_result"
    }
   ],
   "source": [
    "# to get type of an object\n",
    "type(today_i_learned.split())"
   ]
  },
  {
   "cell_type": "markdown",
   "metadata": {},
   "source": [
    "**Fun times with Lists**"
   ]
  },
  {
   "cell_type": "code",
   "execution_count": 81,
   "metadata": {
    "collapsed": false
   },
   "outputs": [
    {
     "data": {
      "text/plain": [
       "[1, 2, 3]"
      ]
     },
     "execution_count": 81,
     "metadata": {},
     "output_type": "execute_result"
    }
   ],
   "source": [
    "a_list = [1,2,3]\n",
    "a_list"
   ]
  },
  {
   "cell_type": "code",
   "execution_count": 83,
   "metadata": {
    "collapsed": false
   },
   "outputs": [
    {
     "data": {
      "text/plain": [
       "[1, 'a', 2]"
      ]
     },
     "execution_count": 83,
     "metadata": {},
     "output_type": "execute_result"
    }
   ],
   "source": [
    "another_list = [1,'a',2]\n",
    "another_list"
   ]
  },
  {
   "cell_type": "code",
   "execution_count": 95,
   "metadata": {
    "collapsed": false
   },
   "outputs": [
    {
     "data": {
      "text/plain": [
       "2"
      ]
     },
     "execution_count": 95,
     "metadata": {},
     "output_type": "execute_result"
    }
   ],
   "source": [
    "another_list[-1]"
   ]
  },
  {
   "cell_type": "code",
   "execution_count": 110,
   "metadata": {
    "collapsed": false
   },
   "outputs": [
    {
     "data": {
      "text/plain": [
       "[2, 3, 3]"
      ]
     },
     "execution_count": 110,
     "metadata": {},
     "output_type": "execute_result"
    }
   ],
   "source": [
    "another_list.append(3)\n",
    "another_list"
   ]
  },
  {
   "cell_type": "code",
   "execution_count": 113,
   "metadata": {
    "collapsed": false
   },
   "outputs": [
    {
     "ename": "ValueError",
     "evalue": "list.remove(x): x not in list",
     "output_type": "error",
     "traceback": [
      "\u001b[0;31m---------------------------------------------------------------------------\u001b[0m",
      "\u001b[0;31mValueError\u001b[0m                                Traceback (most recent call last)",
      "\u001b[0;32m<ipython-input-113-05bce12592c8>\u001b[0m in \u001b[0;36m<module>\u001b[0;34m()\u001b[0m\n\u001b[0;32m----> 1\u001b[0;31m \u001b[0manother_list\u001b[0m\u001b[0;34m.\u001b[0m\u001b[0mremove\u001b[0m\u001b[0;34m(\u001b[0m\u001b[0;36m2\u001b[0m\u001b[0;34m)\u001b[0m\u001b[0;34m\u001b[0m\u001b[0m\n\u001b[0m",
      "\u001b[0;31mValueError\u001b[0m: list.remove(x): x not in list"
     ]
    }
   ],
   "source": [
    "# becareful not to run remove twice!\n",
    "another_list.remove(2)\n",
    "another_list"
   ]
  },
  {
   "cell_type": "code",
   "execution_count": 114,
   "metadata": {
    "collapsed": false
   },
   "outputs": [
    {
     "data": {
      "text/plain": [
       "[3, 3]"
      ]
     },
     "execution_count": 114,
     "metadata": {},
     "output_type": "execute_result"
    }
   ],
   "source": [
    "another_list"
   ]
  },
  {
   "cell_type": "code",
   "execution_count": 102,
   "metadata": {
    "collapsed": true
   },
   "outputs": [],
   "source": [
    "another_list.remove?"
   ]
  },
  {
   "cell_type": "code",
   "execution_count": 108,
   "metadata": {
    "collapsed": true
   },
   "outputs": [],
   "source": [
    "a = [1, 2, 3, 4]\n",
    "a.remove(2)"
   ]
  },
  {
   "cell_type": "code",
   "execution_count": 109,
   "metadata": {
    "collapsed": false
   },
   "outputs": [
    {
     "data": {
      "text/plain": [
       "[1, 3, 4]"
      ]
     },
     "execution_count": 109,
     "metadata": {},
     "output_type": "execute_result"
    }
   ],
   "source": [
    "a"
   ]
  },
  {
   "cell_type": "code",
   "execution_count": 115,
   "metadata": {
    "collapsed": false
   },
   "outputs": [
    {
     "name": "stdout",
     "output_type": "stream",
     "text": [
      "3\n",
      "3\n"
     ]
    }
   ],
   "source": [
    "for item in another_list:\n",
    "    print (item)"
   ]
  },
  {
   "cell_type": "code",
   "execution_count": 117,
   "metadata": {
    "collapsed": false
   },
   "outputs": [
    {
     "name": "stdout",
     "output_type": "stream",
     "text": [
      "Hello World!\n"
     ]
    }
   ],
   "source": [
    "print(\"Hello World!\")"
   ]
  }
 ],
 "metadata": {
  "kernelspec": {
   "display_name": "Python 2",
   "language": "python",
   "name": "python2"
  },
  "language_info": {
   "codemirror_mode": {
    "name": "ipython",
    "version": 2
   },
   "file_extension": ".py",
   "mimetype": "text/x-python",
   "name": "python",
   "nbconvert_exporter": "python",
   "pygments_lexer": "ipython2",
   "version": "2.7.11"
  }
 },
 "nbformat": 4,
 "nbformat_minor": 0
}
